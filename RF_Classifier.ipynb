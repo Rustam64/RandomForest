{
  "nbformat": 4,
  "nbformat_minor": 0,
  "metadata": {
    "colab": {
      "provenance": [],
      "authorship_tag": "ABX9TyM94tkEQuqJ8nzssHHGd671",
      "include_colab_link": true
    },
    "kernelspec": {
      "name": "python3",
      "display_name": "Python 3"
    },
    "language_info": {
      "name": "python"
    }
  },
  "cells": [
    {
      "cell_type": "markdown",
      "metadata": {
        "id": "view-in-github",
        "colab_type": "text"
      },
      "source": [
        "<a href=\"https://colab.research.google.com/github/Rustam64/RandomForest/blob/main/RF_Classifier.ipynb\" target=\"_parent\"><img src=\"https://colab.research.google.com/assets/colab-badge.svg\" alt=\"Open In Colab\"/></a>"
      ]
    },
    {
      "cell_type": "code",
      "execution_count": null,
      "metadata": {
        "colab": {
          "base_uri": "https://localhost:8080/"
        },
        "id": "nckAVJ_aCMqF",
        "outputId": "00b9431c-890c-4d21-ed1f-f4b84d17b0eb"
      },
      "outputs": [
        {
          "output_type": "stream",
          "name": "stdout",
          "text": [
            "   Population density  Distance to street  Rainfall  Temperature  Wind speed  \\\n",
            "0               0.000             276.586   265.723      17.2590     2.57702   \n",
            "1             747.844               0.000   263.802      17.2885     2.60164   \n",
            "2             403.589              30.000   262.844      17.3055     2.61468   \n",
            "3             594.578               0.000   272.966      17.2089     2.49355   \n",
            "4               0.000             323.110   269.917      17.2274     2.53074   \n",
            "\n",
            "   Wind direction  Distance to industrial  Humidity  Elevation  \\\n",
            "0         243.128                 152.971   37.1871       1106   \n",
            "1         242.609                 123.693   36.9740       1110   \n",
            "2         242.054                 247.386   36.8323       1112   \n",
            "3         239.587                 228.473   37.2039       1111   \n",
            "4         241.033                  30.000   37.1938       1109   \n",
            "\n",
            "   Traffic volume  Land surface temperature (LST)  \\\n",
            "0        0.000000                         61.1812   \n",
            "1        0.000000                         60.1474   \n",
            "2        0.000000                         59.8114   \n",
            "3       20.375027                         59.8390   \n",
            "4        0.000000                         60.4878   \n",
            "\n",
            "   Normalized difference vegetation index (NDVI)  Distance to transportation  \\\n",
            "0                                       0.105923                  335.410187   \n",
            "1                                       0.056513                  107.703293   \n",
            "2                                       0.021300                  254.950974   \n",
            "3                                       0.073738                  463.896545   \n",
            "4                                       0.067625                  328.937683   \n",
            "\n",
            "   PM2.5  \n",
            "0      1  \n",
            "1      1  \n",
            "2      1  \n",
            "3      1  \n",
            "4      1  \n"
          ]
        }
      ],
      "source": [
        "import pandas as pd\n",
        "from sklearn.model_selection import train_test_split\n",
        "from sklearn.ensemble import RandomForestClassifier\n",
        "from sklearn.metrics import accuracy_score, classification_report\n",
        "\n",
        "# Load the file\n",
        "df = pd.read_csv(\"PM2.5.csv\")\n",
        "\n",
        "print(df.head())"
      ]
    },
    {
      "cell_type": "code",
      "source": [
        "X = df.drop(columns=[\"PM2.5\"])\n",
        "y = df[\"PM2.5\"]\n",
        "\n",
        "X_train, X_test, y_train, y_test = train_test_split(X, y, test_size=0.2, random_state=42, stratify=y)"
      ],
      "metadata": {
        "id": "CJmYGbjXEnG_"
      },
      "execution_count": null,
      "outputs": []
    },
    {
      "cell_type": "code",
      "source": [
        "# Random Forest Classifier\n",
        "rf = RandomForestClassifier(\n",
        "    n_estimators=200,      # number of trees\n",
        "    max_depth=None,        # let trees expand until pure\n",
        "    random_state=42,\n",
        "    class_weight=\"balanced\"\n",
        ")"
      ],
      "metadata": {
        "id": "areW-DtuHWYO"
      },
      "execution_count": null,
      "outputs": []
    },
    {
      "cell_type": "code",
      "source": [
        "# Train model\n",
        "rf.fit(X_train, y_train)\n",
        "\n",
        "# Predict\n",
        "y_pred = rf.predict(X_test)\n",
        "\n",
        "# Evaluate\n",
        "print(\"Accuracy:\", accuracy_score(y_test, y_pred))\n",
        "print(classification_report(y_test, y_pred))"
      ],
      "metadata": {
        "colab": {
          "base_uri": "https://localhost:8080/"
        },
        "id": "4fIFQiScHbVY",
        "outputId": "8f468300-f874-4db8-dcbc-e38b244d4229"
      },
      "execution_count": null,
      "outputs": [
        {
          "output_type": "stream",
          "name": "stdout",
          "text": [
            "Accuracy: 0.9014084507042254\n",
            "              precision    recall  f1-score   support\n",
            "\n",
            "           0       0.87      0.94      0.91        36\n",
            "           1       0.94      0.86      0.90        35\n",
            "\n",
            "    accuracy                           0.90        71\n",
            "   macro avg       0.90      0.90      0.90        71\n",
            "weighted avg       0.90      0.90      0.90        71\n",
            "\n"
          ]
        }
      ]
    },
    {
      "cell_type": "code",
      "source": [
        "# Feature importance\n",
        "importances = rf.feature_importances_\n",
        "feature_importance = pd.DataFrame({\"feature\": X.columns,\"importance\": importances}).sort_values(by=\"importance\", ascending=False)\n",
        "print(feature_importance)"
      ],
      "metadata": {
        "colab": {
          "base_uri": "https://localhost:8080/"
        },
        "id": "xuxrmfh6HdCH",
        "outputId": "11e8446b-250b-4964-b734-3119aded5282"
      },
      "execution_count": null,
      "outputs": [
        {
          "output_type": "stream",
          "name": "stdout",
          "text": [
            "                                          feature  importance\n",
            "8                                       Elevation    0.256049\n",
            "3                                     Temperature    0.188681\n",
            "7                                        Humidity    0.153614\n",
            "2                                        Rainfall    0.114739\n",
            "4                                      Wind speed    0.091368\n",
            "5                                  Wind direction    0.068812\n",
            "10                 Land surface temperature (LST)    0.035891\n",
            "6                          Distance to industrial    0.019894\n",
            "11  Normalized difference vegetation index (NDVI)    0.018139\n",
            "12                     Distance to transportation    0.014886\n",
            "1                              Distance to street    0.014568\n",
            "9                                  Traffic volume    0.012960\n",
            "0                              Population density    0.010399\n"
          ]
        }
      ]
    }
  ]
}