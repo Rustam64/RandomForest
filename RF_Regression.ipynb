{
  "nbformat": 4,
  "nbformat_minor": 0,
  "metadata": {
    "colab": {
      "provenance": [],
      "authorship_tag": "ABX9TyPq/wDldcH0VYZGTFtzXtkm",
      "include_colab_link": true
    },
    "kernelspec": {
      "name": "python3",
      "display_name": "Python 3"
    },
    "language_info": {
      "name": "python"
    }
  },
  "cells": [
    {
      "cell_type": "markdown",
      "metadata": {
        "id": "view-in-github",
        "colab_type": "text"
      },
      "source": [
        "<a href=\"https://colab.research.google.com/github/Rustam64/RandomForest/blob/main/RF_Regression.ipynb\" target=\"_parent\"><img src=\"https://colab.research.google.com/assets/colab-badge.svg\" alt=\"Open In Colab\"/></a>"
      ]
    },
    {
      "cell_type": "code",
      "execution_count": null,
      "metadata": {
        "colab": {
          "base_uri": "https://localhost:8080/"
        },
        "id": "ZfpPDs5bW9Rx",
        "outputId": "a5d32a95-01b1-4fd7-cb87-1f7d7fd14a3d"
      },
      "outputs": [
        {
          "output_type": "stream",
          "name": "stdout",
          "text": [
            "        Time  logPM2.5  Rain       tmin   Traffic   Temp      RH  tmax  \\\n",
            "0 2018-04-20  1.343822   0.0   7.600000  108000.0   2.18  16.125  26.4   \n",
            "1 2018-04-21  1.512578   0.0  11.200000  135000.0   3.71  18.375  25.0   \n",
            "2 2018-04-22  1.742709   0.0   7.800000  156000.0   3.03  18.750  24.6   \n",
            "7 2018-04-27  1.524318   0.0  13.400001   87000.0  16.46  18.000  27.4   \n",
            "8 2018-04-28  1.535750   0.0  12.200000  132000.0  17.14  19.375  30.0   \n",
            "\n",
            "       Wd     Ws        wc        ws        Lo        La     area  \n",
            "0  202.50  2.250  0.297758  2.230211  51.66779  32.64652  central  \n",
            "1  171.25  1.625 -0.053941  1.624104  51.66779  32.64652  central  \n",
            "2  148.75  1.375 -0.629636 -1.222368  51.66779  32.64652  central  \n",
            "7  160.00  3.000 -2.926888  0.658276  51.66779  32.64652  central  \n",
            "8  113.75  2.625  2.085480  1.594177  51.66779  32.64652  central  \n",
            "area\n",
            "west       2402\n",
            "central    2311\n",
            "south      1782\n",
            "east       1727\n",
            "north      1164\n",
            "Name: count, dtype: int64\n"
          ]
        }
      ],
      "source": [
        "import pandas as pd\n",
        "\n",
        "#File names based on the area\n",
        "files = {\n",
        "    \"central\": \"central.xlsx\",\n",
        "    \"east\": \"east.xlsx\",\n",
        "    \"west\": \"west.xlsx\",\n",
        "    \"north\": \"north.xlsx\",\n",
        "    \"south\": \"south.xlsx\"\n",
        "}\n",
        "\n",
        "dfs = []\n",
        "# Load each file and add the area\n",
        "for area, filename in files.items():\n",
        "    df_area = pd.read_excel(filename)\n",
        "    df_area[\"area\"] = area\n",
        "    dfs.append(df_area)\n",
        "\n",
        "\n",
        "# Combine into one dataframe\n",
        "df = pd.concat(dfs, ignore_index=True)\n",
        "\n",
        "# Replace 'tmin' with NaN before dropping rows\n",
        "df['tmin'] = df['tmin'].astype(str).str.replace('`', '', regex=False)\n",
        "df['tmin'] = pd.to_numeric(df['tmin'], errors='coerce')\n",
        "df = df.dropna()\n",
        "df = df.drop(['observation '], axis=1)\n",
        "\n",
        "print(df.head())\n",
        "print(df[\"area\"].value_counts())"
      ]
    },
    {
      "cell_type": "code",
      "source": [
        "from sklearn.preprocessing import LabelEncoder\n",
        "\n",
        "# Encode area into integers\n",
        "df[\"area_id\"] = LabelEncoder().fit_transform(df[\"area\"])\n",
        "df = df.drop(['area'], axis=1)"
      ],
      "metadata": {
        "id": "AKi8b9SAaZ-I"
      },
      "execution_count": null,
      "outputs": []
    },
    {
      "cell_type": "code",
      "source": [
        "# Data is already sorted by time. This is just to confirm before training the model.\n",
        "df = df.sort_values(by=\"Time\")\n",
        "\n",
        "n = len(df)\n",
        "# Iloc is used to set start and endpoints in the dataframe\n",
        "# Data split: 70% train, 15% val, 15% test\n",
        "train_df = df.iloc[:int(0.7*n)]\n",
        "val_df   = df.iloc[int(0.7*n):int(0.85*n)]\n",
        "test_df  = df.iloc[int(0.85*n):]"
      ],
      "metadata": {
        "id": "c131h6CkatIO"
      },
      "execution_count": null,
      "outputs": []
    },
    {
      "cell_type": "code",
      "source": [
        "features = [\"logPM2.5\",\"Rain\",\"tmin\",\"Traffic\",\"Temp\",\"RH\",\"tmax\",\"Wd\",\"Ws\",\"wc\",\"ws\",\"Lo\",\"La\"]\n",
        "target = \"logPM2.5\"\n",
        "\n",
        "X_train, y_train = train_df[features], train_df[target]\n",
        "X_val, y_val = val_df[features], val_df[target]\n",
        "X_test, y_test = test_df[features], test_df[target]"
      ],
      "metadata": {
        "id": "J-ixl6BYbfc-"
      },
      "execution_count": null,
      "outputs": []
    },
    {
      "cell_type": "code",
      "source": [
        "from sklearn.ensemble import RandomForestRegressor\n",
        "from sklearn.metrics import mean_squared_error\n",
        "\n",
        "# Initialize model\n",
        "rf = RandomForestRegressor(\n",
        "    n_estimators=200,  # number of trees\n",
        "    max_depth=10,      # prevent overfitting\n",
        "    random_state=42,\n",
        "    n_jobs=-1\n",
        ")\n",
        "\n",
        "# Fit on training set\n",
        "rf.fit(X_train, y_train)\n",
        "\n",
        "# Validate\n",
        "val_preds = rf.predict(X_val)\n",
        "val_rmse = mean_squared_error(y_val, val_preds)\n",
        "print(\"Validation RMSE:\", val_rmse)"
      ],
      "metadata": {
        "colab": {
          "base_uri": "https://localhost:8080/"
        },
        "id": "cWT1CRnJb4sZ",
        "outputId": "0cbabc7d-a723-4b59-fb79-4802efa2a52e"
      },
      "execution_count": null,
      "outputs": [
        {
          "output_type": "stream",
          "name": "stdout",
          "text": [
            "Validation RMSE: 3.159262629147813e-05\n"
          ]
        }
      ]
    },
    {
      "cell_type": "code",
      "source": [
        "test_preds = rf.predict(X_test)\n",
        "test_mae = mean_squared_error(y_test, test_preds)\n",
        "print(\"Test MAE:\", test_mae)\n",
        "test_rmse = mean_squared_error(y_test, test_preds)\n",
        "print(\"Test RMSE:\", test_rmse)\n",
        "test_r2 = rf.score(X_test, y_test)\n",
        "print(\"Test R2:\", test_r2)"
      ],
      "metadata": {
        "id": "L-8oH-PIcSqK",
        "colab": {
          "base_uri": "https://localhost:8080/"
        },
        "outputId": "b4d0f7fa-c192-4eda-8776-a40f55529ef4"
      },
      "execution_count": null,
      "outputs": [
        {
          "output_type": "stream",
          "name": "stdout",
          "text": [
            "Test MAE: 3.722216708854064e-08\n",
            "Test RMSE: 3.722216708854064e-08\n",
            "Test R2: 0.9999994031420217\n"
          ]
        }
      ]
    },
    {
      "cell_type": "code",
      "source": [
        "import matplotlib.pyplot as plt\n",
        "\n",
        "importances = rf.feature_importances_\n",
        "plt.bar(features, importances)\n",
        "plt.title(\"Feature Importances\")\n",
        "plt.show()"
      ],
      "metadata": {
        "id": "mW1M4qmucUea",
        "colab": {
          "base_uri": "https://localhost:8080/",
          "height": 452
        },
        "outputId": "cdc5bcc8-0ea6-4c55-ef5d-117a75df07c8"
      },
      "execution_count": null,
      "outputs": [
        {
          "output_type": "display_data",
          "data": {
            "text/plain": [
              "<Figure size 640x480 with 1 Axes>"
            ],
            "image/png": "[encoded data removed]"
          },
          "metadata": {}
        }
      ]
    }
  ]
}